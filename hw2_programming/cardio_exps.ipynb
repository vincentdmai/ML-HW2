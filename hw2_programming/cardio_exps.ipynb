{
 "cells": [
  {
   "cell_type": "code",
   "execution_count": null,
   "metadata": {},
   "outputs": [],
   "source": [
    "%load_ext autoreload\n",
    "%autoreload 2"
   ]
  },
  {
   "cell_type": "code",
   "execution_count": null,
   "metadata": {},
   "outputs": [],
   "source": [
    "from __future__ import division\n",
    "import numpy as np\n",
    "import pylab as plt\n",
    "from linearclassifier import linear_predict, perceptron_update, plot_predictions, log_reg_train\n",
    "from scipy.io import loadmat\n"
   ]
  },
  {
   "cell_type": "code",
   "execution_count": null,
   "metadata": {},
   "outputs": [],
   "source": [
    "# load cardio data from MATLAB data file\n",
    "\n",
    "variables = dict()\n",
    "loadmat('processedCardio.mat', variables)\n",
    "\n",
    "train_labels = variables['trainLabels'].ravel() - 1 # the original MATLAB data was 1-indexed\n",
    "test_labels = variables['testLabels'].ravel() - 1\n",
    "train_data = variables['trainData']\n",
    "test_data = variables['testData']\n",
    "\n",
    "# get data dimensions and sizes\n",
    "num_dim, num_train = train_data.shape\n",
    "_, num_test = test_data.shape\n",
    "\n",
    "classes = np.unique(train_labels)\n",
    "num_classes = len(classes)"
   ]
  },
  {
   "cell_type": "code",
   "execution_count": null,
   "metadata": {},
   "outputs": [],
   "source": [
    "plt.hist(train_labels)\n",
    "plt.xlabel('Class')\n",
    "plt.ylabel('Number of Examples')\n",
    "plt.show()"
   ]
  },
  {
   "cell_type": "code",
   "execution_count": null,
   "metadata": {},
   "outputs": [],
   "source": [
    "# Perceptron experiment\n",
    "\n",
    "epochs = 40\n",
    "lambda_val = 1\n",
    "\n",
    "model = { 'weights': np.zeros((num_dim, num_classes)) }\n",
    "params = {'lambda': lambda_val}\n",
    "train_accuracy = np.zeros(epochs)\n",
    "test_accuracy = np.zeros(epochs)\n",
    "\n",
    "for epoch in range(epochs):\n",
    "    # first measure training and testing accuracy\n",
    "    predictions = linear_predict(train_data, model)\n",
    "    train_accuracy[epoch] = np.sum(predictions == train_labels) / num_train\n",
    "\n",
    "    predictions = linear_predict(test_data, model)\n",
    "    test_accuracy[epoch] = np.sum(predictions == test_labels) / num_test\n",
    "\n",
    "    # run perceptron training\n",
    "    mistakes = 0\n",
    "    for i in range(num_train):\n",
    "        correct = perceptron_update(train_data[:, i], model, params, train_labels[i])\n",
    "        \n",
    "        if not correct:\n",
    "            mistakes += 1\n",
    "    \n",
    "    print(\"Finished epoch %d with %d mistakes.\" % (epoch, mistakes))"
   ]
  },
  {
   "cell_type": "code",
   "execution_count": null,
   "metadata": {},
   "outputs": [],
   "source": [
    "# Plot results of perceptron\n",
    "\n",
    "train_line = plt.plot(range(epochs), train_accuracy, label=\"Training\")\n",
    "test_line = plt.plot(range(epochs), test_accuracy, label=\"Testing\")\n",
    "plt.title('Cardiotocography Data')\n",
    "plt.xlabel('Iteration')\n",
    "plt.ylabel('Perceptron Accuracy')\n",
    "plt.legend()\n",
    "\n",
    "plt.show()\n",
    "\n",
    "print(\"Train Accuracy: %f\" % train_accuracy[epochs-1])\n",
    "print(\"Test Accuracy: %f\" % test_accuracy[epochs-1])\n"
   ]
  },
  {
   "cell_type": "code",
   "execution_count": null,
   "metadata": {},
   "outputs": [],
   "source": [
    "# Logistic regression gradient check\n",
    "\n",
    "# first check if the gradient and objective function are consistent with each other\n",
    "_ = log_reg_train(train_data, train_labels, \n",
    "              {'weights': np.random.randn(num_dim * num_classes)}, check_gradient=True)"
   ]
  },
  {
   "cell_type": "code",
   "execution_count": null,
   "metadata": {},
   "outputs": [],
   "source": [
    "# Logistic regression experiment\n",
    "\n",
    "model = {'weights': np.zeros((num_dim, num_classes))}\n",
    "    \n",
    "model = log_reg_train(train_data, train_labels, model)\n",
    "        \n",
    "train_predictions = linear_predict(train_data, model)\n",
    "train_accuracy = np.sum(train_predictions == train_labels) / num_train\n",
    "\n",
    "test_predictions = linear_predict(test_data, model)\n",
    "test_accuracy = np.sum(test_predictions == test_labels) / num_test\n",
    "    \n",
    "print(\"Train Accuracy: %f\" % train_accuracy)\n",
    "print(\"Test Accuracy: %f\" % test_accuracy)\n"
   ]
  },
  {
   "cell_type": "code",
   "execution_count": null,
   "metadata": {},
   "outputs": [],
   "source": []
  },
  {
   "cell_type": "code",
   "execution_count": null,
   "metadata": {},
   "outputs": [],
   "source": []
  }
 ],
 "metadata": {
  "kernelspec": {
   "display_name": "Python 3",
   "language": "python",
   "name": "python3"
  },
  "language_info": {
   "codemirror_mode": {
    "name": "ipython",
    "version": 3
   },
   "file_extension": ".py",
   "mimetype": "text/x-python",
   "name": "python",
   "nbconvert_exporter": "python",
   "pygments_lexer": "ipython3",
   "version": "3.7.4"
  }
 },
 "nbformat": 4,
 "nbformat_minor": 1
}
